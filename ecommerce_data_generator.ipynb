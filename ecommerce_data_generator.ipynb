{
 "cells": [
  {
   "cell_type": "code",
   "execution_count": 3,
   "id": "9c4d5a1f-e3bf-4202-8aa4-e9aeb7e7ffb1",
   "metadata": {},
   "outputs": [],
   "source": [
    "import csv\n",
    "import random\n",
    "import datetime"
   ]
  },
  {
   "cell_type": "code",
   "execution_count": 4,
   "id": "3bd1c4cf-d1ac-4e9b-87fd-96da7f48ade2",
   "metadata": {},
   "outputs": [],
   "source": [
    "# Sample data for product categories and locations\n",
    "PRODUCT_CATEGORIES = ['Electronics', 'Clothing', 'Home & Kitchen', 'Books', 'Sports', 'Toys']\n",
    "PRODUCTS = {\n",
    "    'Electronics': ['Phone', 'Laptop', 'Headphones', 'Tablet'],\n",
    "    'Clothing': ['Shirt', 'Jeans', 'Jacket', 'Shoes'],\n",
    "    'Home & Kitchen': ['Blender', 'Microwave', 'Vacuum Cleaner', 'Cookware'],\n",
    "    'Books': ['Fiction', 'Non-Fiction', 'Textbook', 'Biography'],\n",
    "    'Sports': ['Football', 'Tennis Racket', 'Basketball', 'Yoga Mat'],\n",
    "    'Toys': ['Doll', 'Building Blocks', 'Puzzle', 'Action Figure']\n",
    "}\n",
    "LOCATIONS = ['New York', 'Los Angeles', 'Chicago', 'Houston', 'San Francisco']\n"
   ]
  },
  {
   "cell_type": "code",
   "execution_count": 5,
   "id": "d916a844-7aa6-4805-a475-f0091038ea11",
   "metadata": {},
   "outputs": [],
   "source": [
    "def generate_data(file_name, num_records=10000):\n",
    "    with open(file_name, mode='w', newline='') as file:\n",
    "        writer = csv.writer(file)\n",
    "        writer.writerow(['Order ID', 'Product', 'Category', 'Price', 'Quantity', 'Location', 'Order Date'])\n",
    "\n",
    "        for i in range(num_records):\n",
    "            category = random.choice(PRODUCT_CATEGORIES)\n",
    "            product = random.choice(PRODUCTS[category])\n",
    "            price = round(random.uniform(5, 1000), 2)\n",
    "            quantity = random.randint(1, 10)\n",
    "            location = random.choice(LOCATIONS)\n",
    "            order_date = datetime.datetime.now() - datetime.timedelta(days=random.randint(1, 365))\n",
    "\n",
    "            writer.writerow([\n",
    "                f\"ORD-{i+1:05d}\",\n",
    "                product,\n",
    "                category,\n",
    "                price,\n",
    "                quantity,\n",
    "                location,\n",
    "                order_date.strftime('%Y-%m-%d')\n",
    "            ])"
   ]
  },
  {
   "cell_type": "code",
   "execution_count": 6,
   "id": "6430aa2f-d261-4027-b89b-341f77b1b87d",
   "metadata": {},
   "outputs": [
    {
     "name": "stdout",
     "output_type": "stream",
     "text": [
      "E-Commerce data generated successfully!\n"
     ]
    }
   ],
   "source": [
    "if __name__ == \"__main__\":\n",
    "    generate_data('ecommerce_data.csv')\n",
    "    print(\"E-Commerce data generated successfully!\")"
   ]
  },
  {
   "cell_type": "code",
   "execution_count": null,
   "id": "51bf39c8-b9fb-4432-ba6d-6efa64adbe69",
   "metadata": {},
   "outputs": [],
   "source": []
  }
 ],
 "metadata": {
  "kernelspec": {
   "display_name": "Python 3 (ipykernel)",
   "language": "python",
   "name": "python3"
  },
  "language_info": {
   "codemirror_mode": {
    "name": "ipython",
    "version": 3
   },
   "file_extension": ".py",
   "mimetype": "text/x-python",
   "name": "python",
   "nbconvert_exporter": "python",
   "pygments_lexer": "ipython3",
   "version": "3.10.1"
  }
 },
 "nbformat": 4,
 "nbformat_minor": 5
}
